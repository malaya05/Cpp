{
 "metadata": {
  "language_info": {
   "codemirror_mode": {
    "name": "ipython",
    "version": 3
   },
   "file_extension": ".py",
   "mimetype": "text/x-python",
   "name": "python",
   "nbconvert_exporter": "python",
   "pygments_lexer": "ipython3",
   "version": "3.7.0"
  },
  "orig_nbformat": 2,
  "kernelspec": {
   "name": "python370jvsc74a57bd0ff1c58f85bb322d7bb79ec4752486327818e1c1e6699e897676b12b7dcf713db",
   "display_name": "Python 3.7.0 64-bit"
  }
 },
 "nbformat": 4,
 "nbformat_minor": 2,
 "cells": [
  {
   "cell_type": "code",
   "execution_count": 36,
   "metadata": {},
   "outputs": [
    {
     "output_type": "execute_result",
     "data": {
      "text/plain": [
       "['332', '32', '990']"
      ]
     },
     "metadata": {},
     "execution_count": 36
    }
   ],
   "source": [
    "# Weird sort \n",
    "def ssort(nums,mapping):\n",
    "    d = {str(mapping[i]): str(i) for i in range(len(mapping))}\n",
    "    \n",
    "    final=[]\n",
    "    \n",
    "    for i in nums:\n",
    "        s = ''\n",
    "        for digit in i:\n",
    "            s+=d[digit]\n",
    "\n",
    "        final.append((int(s), i))\n",
    "    \n",
    "    result = sorted(final, key=lambda x: (x[0]))\n",
    "    \n",
    "    for i in range(len(result)):\n",
    "        result[i] = result[i][1]\n",
    "    return result\n",
    "\n",
    "\n",
    "nums = ['12','02','4', '023', '65', '83', '224', '50']\n",
    "mapping = [2,1,4,8,6,3,0,9,7,5]\n",
    "ssort(nums,mapping)\n",
    "\n",
    "nums = ['990','332','32']\n",
    "mapping = [3,5,4,6,2,7,9,8,0,1]\n",
    "ssort(nums,mapping)\n"
   ]
  },
  {
   "cell_type": "code",
   "execution_count": 29,
   "metadata": {},
   "outputs": [
    {
     "output_type": "execute_result",
     "data": {
      "text/plain": [
       "17"
      ]
     },
     "metadata": {},
     "execution_count": 29
    }
   ],
   "source": [
    "#substrings of major companies\n",
    "def sharePurchase(s):\n",
    "    h={'A':1,'B':1,'C':1}\n",
    "    res=0\n",
    "    start=0\n",
    "    count=0\n",
    "    for i in range(len(s)):\n",
    "        if s[i] not in  h:\n",
    "            h[s[i]] = 0\n",
    "        else:\n",
    "            count +=1\n",
    "        while count==3:\n",
    "            res += len(s) - i\n",
    "            if ((h[s[start]] + 1) > 0):\n",
    "                count -= 1\n",
    "            start +=1\n",
    "    return res;\n",
    "\n",
    "sharePurchase(\"ABBCZBAC\")"
   ]
  },
  {
   "cell_type": "code",
   "execution_count": 30,
   "metadata": {},
   "outputs": [
    {
     "output_type": "stream",
     "name": "stdout",
     "text": [
      "babaa\nca\nba\naaa\nnana\n"
     ]
    },
    {
     "output_type": "execute_result",
     "data": {
      "text/plain": [
       "'nana'"
      ]
     },
     "metadata": {},
     "execution_count": 30
    }
   ],
   "source": [
    "##max substrings in order lexo\n",
    "def ms(st):\n",
    "\n",
    "  \"\"\"   res = \"\"\n",
    "  for i in range(len(st)):\n",
    "    res = max(res,st[i:])\n",
    "  print(res)\n",
    "  return res \n",
    "  \"\"\"\n",
    "  maxchar = 'a'\n",
    "  index = []\n",
    "  for i in range(len(st)):\n",
    "    if (st[i] >= maxchar):\n",
    "      maxchar = st[i]\n",
    "      index.append(i)\n",
    " \n",
    "  maxstring = \"\"\n",
    " \n",
    "  for i in range(len(index)):\n",
    "    if (st[index[i]: len(st)] > maxstring):\n",
    "      maxstring = st[index[i]:len(st)]\n",
    "\n",
    "  print(maxstring)\n",
    "  return maxstring\n",
    "\n",
    "ms(\"ababaa\")\n",
    "ms(\"baca\")\n",
    "ms(\"ba\")\n",
    "ms(\"aaa\")\n",
    "ms(\"banana\")"
   ]
  },
  {
   "cell_type": "code",
   "execution_count": 32,
   "metadata": {},
   "outputs": [
    {
     "output_type": "stream",
     "name": "stdout",
     "text": [
      "4/4 Test Cased Passed\n"
     ]
    }
   ],
   "source": [
    "def turnstile(time, direction):\n",
    "    en, ex = [], []\n",
    "    res = [0] * len(time)\n",
    "    for i, t in enumerate(time):\n",
    "        if direction[i] == 1:\n",
    "            ex.append([time[i], i])\n",
    "        else:\n",
    "            en.append([time[i], i])\n",
    "    \n",
    "    timeCounter, lastTurn = 0, -1 # time is 0 at the beginning and -1 \n",
    "                                # indicates nothing happened at prior time\n",
    "    while ex or en:\n",
    "        # Process the exit queue if and only if following conditions are satisfied\n",
    "        # If exit queue is not empty and the person at the front of the queue can go out based on his time stamp\n",
    "        # and ( Nothing happened at last time stamp i.e. nobody moved in or out so lastTurn will be -1 in this case\n",
    "        # or, somebody moved out at last time stamp, in this case lastTurn will be 1\n",
    "        # or, nobody is there in the entrance queue\n",
    "        # or, at last time stamp somebody got in but the person at the front of the queue can't go in due to their timestamp  \n",
    "        if ex and ex[0][0] <= timeCounter and \\\n",
    "        (lastTurn == -1 or lastTurn == 1 or not en or (lastTurn == 0 and en[0][0] > timeCounter)):\n",
    "            res[ex[0][1]] = timeCounter\n",
    "            lastTurn = 1\n",
    "            ex.pop(0)\n",
    "        elif en and en[0][0] <= timeCounter:\n",
    "            res[en[0][1]] = timeCounter\n",
    "            lastTurn = 0\n",
    "            en.pop(0)\n",
    "        else:\n",
    "            lastTurn = -1\n",
    "\n",
    "        timeCounter += 1\n",
    "    \n",
    "    return res\n",
    "\n",
    "if __name__ == \"__main__\":\n",
    "    testcases = [\n",
    "        [ [0,0,1,5], [0,1,1,0], [2,0,1,5] ],\\\n",
    "        [[1,2,4], [0,1,1], [1,2,4]],\\\n",
    "        [[1,1], [1,1], [1,2]], \\\n",
    "        [[1,1,3,3,4,5,6,7,7], [1,1,0,0,0,1,1,1,1], [1,2,3,4,5,6,7,8,9]] \n",
    "    ]\n",
    "\n",
    "    passedCounter = 0\n",
    "    for i, test in enumerate(testcases):\n",
    "        time, direction, expected = test[0], test[1], test[2]\n",
    "        result = turnstile(time, direction)\n",
    "        if result == expected:\n",
    "            passedCounter += 1\n",
    "        else:\n",
    "            print(\" %d Test case failed \" %(i+1))\n",
    "            print(\"Expected: \", expected)\n",
    "            print(\"Got: \", result)\n",
    "    \n",
    "    print(\"%d/%d Test Cased Passed\" %(passedCounter, len(testcases)))"
   ]
  },
  {
   "cell_type": "code",
   "execution_count": 34,
   "metadata": {},
   "outputs": [
    {
     "output_type": "stream",
     "name": "stdout",
     "text": [
      "result 1:  5\nresult 2:  1\nresult 3:  1\nresult 4:  89\n"
     ]
    }
   ],
   "source": [
    "\"\"\"Maximum Difference in an Array.\n",
    "@source: http://www.1point3acres.com/bbs/data/attachment/forum/201808/19/064803h5u1xkdpu1b7f55f.png\n",
    "\"\"\"\n",
    "\n",
    "\n",
    "def maxDifferenceOddEven(arr):\n",
    "    \"\"\"Maximum Difference in an Array.\"\"\"\n",
    "    result = -1\n",
    "\n",
    "    length = len(arr)\n",
    "    for j in range(length):\n",
    "\n",
    "        right = arr[j]\n",
    "        for i in range(j):\n",
    "\n",
    "            if arr[i] < right and arr[i] % 2 == 1 and right % 2 == 0:\n",
    "                diff = right - arr[i]\n",
    "\n",
    "                if diff > result:\n",
    "                    result = diff\n",
    "    return result\n",
    "\n",
    "\n",
    "result1 = maxDifferenceOddEven([1, 2, 3, 6, 4])\n",
    "print(\"result 1: \", result1)\n",
    "\n",
    "result2 = maxDifferenceOddEven(\n",
    "    [1, 1, 1, 1, 1, 1, 1, 1, 1, 2, 2, 2, 2, 2, 2, 2])\n",
    "print(\"result 2: \", result2)\n",
    "\n",
    "result3 = maxDifferenceOddEven(\n",
    "    [9, 3, 2, 7, 9, 4, 5, 7, 2, 3, 9, 4, 7, 5, 0, 2, 37, 9, 5])\n",
    "print(\"result 3: \", result3)\n",
    "\n",
    "result4 = maxDifferenceOddEven(\n",
    "    [3, 4, 5, 2, 3, 4, 5, 92, 8, 3, 7, 4, 5, 9, 2, 7, 34, 95, 7, 3])\n",
    "print(\"result 4: \", result4)"
   ]
  },
  {
   "cell_type": "code",
   "execution_count": 35,
   "metadata": {},
   "outputs": [
    {
     "output_type": "stream",
     "name": "stdout",
     "text": [
      "My KeyboRD IS BROKEN!\n"
     ]
    }
   ],
   "source": [
    "\"\"\"Press A for Caps Lock.\n",
    "@source: http://www.1point3acres.com/bbs/data/attachment/forum/201808/19/064759wcau444j33hj43pf.png\n",
    "\"\"\"\n",
    "\n",
    "def pressAforCapsLock(s):\n",
    "    if not s:\n",
    "        return None\n",
    "\n",
    "    if len(s) == 1:\n",
    "        if s == 'A' or s == 'a':\n",
    "            return None\n",
    "        else:\n",
    "            return s\n",
    "\n",
    "    # Caps Lock key is initially toggled off\n",
    "    capslock = False\n",
    "    result = \"\"\n",
    "\n",
    "    for char in s:\n",
    "\n",
    "        if char == 'A' or char == 'a':\n",
    "            capslock = not capslock\n",
    "            continue\n",
    "\n",
    "        if capslock:\n",
    "            if ord(char) >= 65 and ord(char) <= 90:\n",
    "                # Upper Case\n",
    "                result += chr(ord(char) + 32)\n",
    "\n",
    "            elif ord(char) >= 97 and ord(char) <= 122:\n",
    "                # Lower Case\n",
    "                result += chr(ord(char) - 32)\n",
    "            else:\n",
    "                result += char\n",
    "        else:\n",
    "            result += char\n",
    "\n",
    "    return result\n",
    "\n",
    "result = pressAforCapsLock(\"My Keyboard is broken!\")\n",
    "print(result)"
   ]
  },
  {
   "cell_type": "code",
   "execution_count": 39,
   "metadata": {},
   "outputs": [
    {
     "output_type": "error",
     "ename": "NameError",
     "evalue": "name 'backtracking' is not defined",
     "traceback": [
      "\u001b[1;31m---------------------------------------------------------------------------\u001b[0m",
      "\u001b[1;31mNameError\u001b[0m                                 Traceback (most recent call last)",
      "\u001b[1;32m<ipython-input-39-59c2bbb1d9e8>\u001b[0m in \u001b[0;36m<module>\u001b[1;34m\u001b[0m\n\u001b[0;32m     22\u001b[0m                 \u001b[0mnewNode\u001b[0m\u001b[1;33m[\u001b[0m\u001b[1;34m'#'\u001b[0m\u001b[1;33m]\u001b[0m \u001b[1;33m=\u001b[0m \u001b[1;33m[\u001b[0m\u001b[1;33m]\u001b[0m\u001b[1;33m\u001b[0m\u001b[0m\n\u001b[0;32m     23\u001b[0m                 \u001b[0mnode\u001b[0m\u001b[1;33m[\u001b[0m\u001b[0mchar\u001b[0m\u001b[1;33m]\u001b[0m \u001b[1;33m=\u001b[0m \u001b[0mnewNode\u001b[0m\u001b[1;33m\u001b[0m\u001b[0m\n\u001b[1;32m---> 24\u001b[1;33m \u001b[0mwordSquares\u001b[0m\u001b[1;33m(\u001b[0m\u001b[1;33m[\u001b[0m\u001b[1;34m\"area\"\u001b[0m\u001b[1;33m,\u001b[0m\u001b[1;34m\"lead\"\u001b[0m\u001b[1;33m,\u001b[0m\u001b[1;34m\"wall\"\u001b[0m\u001b[1;33m,\u001b[0m\u001b[1;34m\"lady\"\u001b[0m\u001b[1;33m,\u001b[0m\u001b[1;34m\"ball\"\u001b[0m\u001b[1;33m]\u001b[0m\u001b[1;33m)\u001b[0m\u001b[1;33m\u001b[0m\u001b[0m\n\u001b[0m",
      "\u001b[1;32m<ipython-input-39-59c2bbb1d9e8>\u001b[0m in \u001b[0;36mwordSquares\u001b[1;34m(words)\u001b[0m\n\u001b[0;32m      8\u001b[0m     \u001b[1;32mfor\u001b[0m \u001b[0mword\u001b[0m \u001b[1;32min\u001b[0m \u001b[0mwords\u001b[0m\u001b[1;33m:\u001b[0m\u001b[1;33m\u001b[0m\u001b[0m\n\u001b[0;32m      9\u001b[0m         \u001b[0mword_squares\u001b[0m \u001b[1;33m=\u001b[0m \u001b[1;33m[\u001b[0m\u001b[0mword\u001b[0m\u001b[1;33m]\u001b[0m\u001b[1;33m\u001b[0m\u001b[0m\n\u001b[1;32m---> 10\u001b[1;33m         \u001b[0mbacktracking\u001b[0m\u001b[1;33m(\u001b[0m\u001b[1;36m1\u001b[0m\u001b[1;33m,\u001b[0m \u001b[0mword_squares\u001b[0m\u001b[1;33m,\u001b[0m \u001b[0mresults\u001b[0m\u001b[1;33m)\u001b[0m\u001b[1;33m\u001b[0m\u001b[0m\n\u001b[0m\u001b[0;32m     11\u001b[0m     \u001b[1;32mreturn\u001b[0m \u001b[0mresults\u001b[0m\u001b[1;33m\u001b[0m\u001b[0m\n\u001b[0;32m     12\u001b[0m \u001b[1;33m\u001b[0m\u001b[0m\n",
      "\u001b[1;31mNameError\u001b[0m: name 'backtracking' is not defined"
     ]
    }
   ],
   "source": [
    "#words matrix\n",
    "def wordSquares(words):\n",
    "    words = words\n",
    "    N = len(words[0])\n",
    "    buildTrie(words)\n",
    "    results = []\n",
    "    word_squares = []\n",
    "    for word in words:\n",
    "        word_squares = [word]\n",
    "        backtracking(1, word_squares, results)\n",
    "    return results\n",
    "\n",
    "def buildTrie(words):\n",
    "    trie = {}\n",
    "    for wordIndex, word in enumerate(words):\n",
    "        node = trie\n",
    "        for char in word:\n",
    "            if char in node:\n",
    "                node = node[char]\n",
    "            else:\n",
    "                newNode = {}\n",
    "                newNode['#'] = []\n",
    "                node[char] = newNode\n",
    "\n",
    "def backtracking(step, word_squares, results):\n",
    "    if step == N:\n",
    "        results.append(word_squares[:])\n",
    "        return\n",
    "    prefix = ''.join([word[step] for word in word_squares])\n",
    "    for candidate in self.getWordsWithPrefix(prefix):\n",
    "        word_squares.append(candidate)\n",
    "        self.backtracking(step+1, word_squares, results)\n",
    "        word_squares.pop()\n",
    "\n",
    "def getWordsWithPrefix(self, prefix):\n",
    "        node = self.trie\n",
    "        for char in prefix:\n",
    "            if char not in node:\n",
    "                return []\n",
    "            node = node[char]\n",
    "        return [self.words[wordIndex] for wordIndex in node['#']]\n",
    "\n",
    "wordSquares([\"area\",\"lead\",\"wall\",\"lady\",\"ball\"])"
   ]
  },
  {
   "cell_type": "code",
   "execution_count": 40,
   "metadata": {},
   "outputs": [
    {
     "output_type": "error",
     "ename": "IndentationError",
     "evalue": "unindent does not match any outer indentation level (<tokenize>, line 15)",
     "traceback": [
      "\u001b[1;36m  File \u001b[1;32m\"<tokenize>\"\u001b[1;36m, line \u001b[1;32m15\u001b[0m\n\u001b[1;33m    def backtracking(self, step, word_squares, results):\u001b[0m\n\u001b[1;37m    ^\u001b[0m\n\u001b[1;31mIndentationError\u001b[0m\u001b[1;31m:\u001b[0m unindent does not match any outer indentation level\n"
     ]
    }
   ],
   "source": [
    "#https://leetcode.com/problems/word-squares/solution/\n",
    "   def wordSquares(self, words: List[str]) -> List[List[str]]:\n",
    "\n",
    "        self.words = words\n",
    "        self.N = len(words[0])\n",
    "        self.buildPrefixHashTable(self.words)\n",
    "\n",
    "        results = []\n",
    "        word_squares = []\n",
    "        for word in words:\n",
    "            word_squares = [word]\n",
    "            self.backtracking(1, word_squares, results)\n",
    "        return results\n",
    "\n",
    "    def backtracking(self, step, word_squares, results):\n",
    "        if step == self.N:\n",
    "            results.append(word_squares[:])\n",
    "            return\n",
    "\n",
    "        prefix = ''.join([word[step] for word in word_squares])\n",
    "        for candidate in self.getWordsWithPrefix(prefix):\n",
    "            word_squares.append(candidate)\n",
    "            self.backtracking(step+1, word_squares, results)\n",
    "            word_squares.pop()\n",
    "\n",
    "    def buildPrefixHashTable(self, words):\n",
    "        self.prefixHashTable = {}\n",
    "        for word in words:\n",
    "            for prefix in (word[:i] for i in range(1, len(word))):\n",
    "                self.prefixHashTable.setdefault(prefix, set()).add(word)\n",
    "\n",
    "    def getWordsWithPrefix(self, prefix):\n",
    "        if prefix in self.prefixHashTable:\n",
    "            return self.prefixHashTable[prefix]\n",
    "        else:\n",
    "            return set([])"
   ]
  },
  {
   "cell_type": "code",
   "execution_count": 42,
   "metadata": {},
   "outputs": [
    {
     "output_type": "error",
     "ename": "IndentationError",
     "evalue": "unexpected indent (<ipython-input-42-bf5125cebad6>, line 2)",
     "traceback": [
      "\u001b[1;36m  File \u001b[1;32m\"<ipython-input-42-bf5125cebad6>\"\u001b[1;36m, line \u001b[1;32m2\u001b[0m\n\u001b[1;33m    def heightChecker(self, heights: List[int]) -> int:\u001b[0m\n\u001b[1;37m    ^\u001b[0m\n\u001b[1;31mIndentationError\u001b[0m\u001b[1;31m:\u001b[0m unexpected indent\n"
     ]
    }
   ],
   "source": [
    "#  https://leetcode.com/problems/height-checker/submissions/\n",
    "    def heightChecker(self, heights: List[int]) -> int:\n",
    "        return sum(h1 != h2 for h1, h2 in zip(heights, sorted(heights)))"
   ]
  },
  {
   "cell_type": "code",
   "execution_count": null,
   "metadata": {},
   "outputs": [],
   "source": [
    "#https://leetcode.com/problems/robot-bounded-in-circle/solution/\n",
    "    def isRobotBounded(self, instructions: str) -> bool:\n",
    "        # north = 0, east = 1, south = 2, west = 3\n",
    "        directions = [[0, 1], [1, 0], [0, -1], [-1, 0]]\n",
    "        # Initial position is in the center\n",
    "        x = y = 0\n",
    "        # facing north\n",
    "        idx = 0\n",
    "        \n",
    "        for i in instructions:\n",
    "            if i == \"L\":\n",
    "                idx = (idx + 3) % 4\n",
    "            elif i == \"R\":\n",
    "                idx = (idx + 1) % 4\n",
    "            else:\n",
    "                x += directions[idx][0]\n",
    "                y += directions[idx][1]\n",
    "        \n",
    "        # after one cycle:\n",
    "        # robot returns into initial position\n",
    "        # or robot doesn't face north\n",
    "        return (x == 0 and y == 0) or idx != 0"
   ]
  },
  {
   "cell_type": "code",
   "execution_count": null,
   "metadata": {},
   "outputs": [],
   "source": [
    "#Balanced Array\n",
    "def solve(a):\n",
    "    # Complete this function\n",
    "    sum1 = 0\n",
    "sum2 = 0\n",
    "for i in range(len(a)//2):\n",
    "    sum1 += a[i]\n",
    "for i in range(len(a)//2, len(a)):\n",
    "    sum2 += a[i]\n",
    "if not sum1 == sum2:\n",
    "    return abs(sum1 - sum2)\n",
    "else:\n",
    "    return 0"
   ]
  }
 ]
}